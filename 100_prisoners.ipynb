{
 "cells": [
  {
   "cell_type": "markdown",
   "metadata": {},
   "source": [
    "## 100 Prisoners\n",
    "- 100 prisoners are individually numbered 1 to 100\n",
    "- A room having a cupboard of 100 opaque drawers numbered 1 to 100, that cannot be seen from outside.\n",
    "- Cards numbered 1 to 100 are placed randomly, one to a drawer, and the drawers all closed; at the start.\n",
    "- Prisoners enter the room one by one, can open a drawer, inspect the card number in the drawer, then close the drawer.\n",
    "    - A prisoner can open no more than 50 drawers.\n",
    "    - A prisoner tries to find his own number.\n",
    "    - A prisoner finding his own number is then held apart from the others.\n",
    "- If all 100 prisoners find their own numbers then they will all be pardoned. If any do not then all sentences stand."
   ]
  },
  {
   "cell_type": "code",
   "execution_count": null,
   "metadata": {},
   "outputs": [],
   "source": [
    "import random"
   ]
  },
  {
   "cell_type": "code",
   "execution_count": null,
   "metadata": {},
   "outputs": [],
   "source": [
    "# Random selection approach\n",
    "def play_random(n):\n",
    "    pardoned = 0\n",
    "    in_drawer = list(range(100))\n",
    "    sampler = list(range(100))\n",
    "\n",
    "    # Simulate the selection of drawers\n",
    "    for _round in range(n):\n",
    "        random.shuffle(in_drawer)\n",
    "        found = False\n",
    "        for prisoner in range(100):\n",
    "            found = False\n",
    "            for reveal in random.sample(sampler, 50):\n",
    "                card = in_drawer[reveal]\n",
    "                if card == prisoner:\n",
    "                    found = True\n",
    "                    break\n",
    "            if not found:\n",
    "                break\n",
    "        if found:\n",
    "            pardoned += 1\n",
    "    return pardoned / n * 100"
   ]
  },
  {
   "cell_type": "code",
   "execution_count": null,
   "metadata": {},
   "outputs": [],
   "source": [
    "# Optimal strategy\n",
    "def play_optimal(n):\n",
    "    pardoned = 0\n",
    "    in_drawer = list(range(100))\n",
    "\n",
    "    # Simulate the selection of drawers\n",
    "    for _round in range(n):\n",
    "        random.shuffle(in_drawer)\n",
    "        found = False\n",
    "        for prisoner in range(100):\n",
    "            found = False\n",
    "            n_check = 0\n",
    "            check_next = prisoner\n",
    "            while n_check <= 50:\n",
    "                if in_drawer[check_next] == prisoner:\n",
    "                    found = True\n",
    "                    break\n",
    "                n_check += 1\n",
    "                check_next = in_drawer[check_next]\n",
    "            if not found:\n",
    "                break\n",
    "        if found:\n",
    "            pardoned += 1\n",
    "    return pardoned / n * 100"
   ]
  }
 ],
 "metadata": {
  "kernelspec": {
   "display_name": "base",
   "language": "python",
   "name": "python3"
  },
  "language_info": {
   "codemirror_mode": {
    "name": "ipython",
    "version": 3
   },
   "file_extension": ".py",
   "mimetype": "text/x-python",
   "name": "python",
   "nbconvert_exporter": "python",
   "pygments_lexer": "ipython3",
   "version": "3.12.2"
  }
 },
 "nbformat": 4,
 "nbformat_minor": 2
}
