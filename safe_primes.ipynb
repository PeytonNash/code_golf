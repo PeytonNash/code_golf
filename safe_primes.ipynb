{
 "cells": [
  {
   "cell_type": "markdown",
   "metadata": {},
   "source": [
    "### Safe Primes\n",
    "\n",
    "Definitions\n",
    "- A   safe prime   is a prime   p   and where   (p-1)/2   is also prime.\n",
    "- The corresponding prime  (p-1)/2   is known as a   Sophie Germain   prime.\n",
    "- An   unsafe prime   is a prime   p   and where   (p-1)/2   isn't   a prime.\n",
    "- An   unsafe prime   is a prime that   isn't   a   safe   prime.\n",
    "\n",
    "\n",
    "Task\n",
    "-  Find and display (on one line) the first   35   safe primes.\n",
    "-  Find and display the   count   of the safe primes below   1,000,000.\n",
    "-  Find and display (on one line) the first   40   unsafe primes.\n",
    "-  Find and display the   count   of the unsafe primes below   1,000,000."
   ]
  },
  {
   "cell_type": "code",
   "execution_count": 4,
   "metadata": {},
   "outputs": [],
   "source": [
    "import math"
   ]
  },
  {
   "cell_type": "code",
   "execution_count": 15,
   "metadata": {},
   "outputs": [
    {
     "name": "stdout",
     "output_type": "stream",
     "text": [
      "[5, 7, 11, 15, 19, 23, 27, 31, 35, 39, 43, 47, 51, 55, 59, 63, 67, 71, 75, 79, 83, 87, 91, 95, 99, 103, 107, 111, 115, 119, 123, 127, 131, 135, 139]\n"
     ]
    }
   ],
   "source": [
    "primes = [2]\n",
    "safe = []\n",
    "candidate=3\n",
    "while len(safe) < 35:\n",
    "    for x in range(3, int(math.sqrt(candidate)+1), 2):\n",
    "        if candidate % x == 0:\n",
    "            break\n",
    "    primes.append(candidate)\n",
    "    if (candidate-1)/2 in primes:\n",
    "        safe.append(candidate)\n",
    "    candidate += 2\n",
    "print(safe)"
   ]
  },
  {
   "cell_type": "code",
   "execution_count": null,
   "metadata": {},
   "outputs": [],
   "source": [
    "candidate=max(safe)\n",
    "while max(safe) < 1000000:\n",
    "    for x in range(3, int(math.sqrt(candidate)+1), 2):\n",
    "        if candidate % x == 0:\n",
    "            break\n",
    "    primes.append(candidate)\n",
    "    if (candidate-1)/2 in primes:\n",
    "        safe.append(candidate)\n",
    "    candidate += 2\n",
    "print(safe)"
   ]
  }
 ],
 "metadata": {
  "kernelspec": {
   "display_name": "base",
   "language": "python",
   "name": "python3"
  },
  "language_info": {
   "codemirror_mode": {
    "name": "ipython",
    "version": 3
   },
   "file_extension": ".py",
   "mimetype": "text/x-python",
   "name": "python",
   "nbconvert_exporter": "python",
   "pygments_lexer": "ipython3",
   "version": "3.12.2"
  }
 },
 "nbformat": 4,
 "nbformat_minor": 2
}
