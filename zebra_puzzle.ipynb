{
 "cells": [
  {
   "cell_type": "markdown",
   "metadata": {},
   "source": [
    "### Zebra Puzzle\n",
    "\n",
    "-  There are five houses.\n",
    "-  The English man lives in the red house.\n",
    "-  The Swede has a dog.\n",
    "-  The Dane drinks tea.\n",
    "-  The green house is immediately to the left of the white house.\n",
    "-  They drink coffee in the green house.\n",
    "-  The man who smokes Pall Mall has a bird.\n",
    "-  In the yellow house they smoke Dunhill.\n",
    "-  In the middle house they drink milk.\n",
    "-  The Norwegian lives in the first house.\n",
    "-  The Blend-smoker lives in the house next to the house with a cat.\n",
    "-  In a house next to the house with a horse, they smoke Dunhill.\n",
    "-  The man who smokes Blue Master drinks beer.\n",
    "-  The German smokes Prince.\n",
    "-  The Norwegian lives next to the blue house.\n",
    "-  They drink water in a house next to the house where they smoke Blend.\n",
    "\n",
    "The question is, who owns the zebra? For clarity, each of the five houses is painted a different color, and their inhabitants are of different nationalities, own different pets, drink different beverages and smoke different brands of cigarettes."
   ]
  },
  {
   "cell_type": "code",
   "execution_count": null,
   "metadata": {},
   "outputs": [],
   "source": [
    "order = [1, 2, 3, 4, 5]\n",
    "\n",
    "#pall mall\n",
    "#dunhill\n",
    "#blue master\n",
    "#prince\n",
    "#blend\n",
    "#\n",
    "#red\n",
    "#green\n",
    "#white\n",
    "#yellow\n",
    "#blue\n",
    "#\n",
    "#english\n",
    "#swede\n",
    "#dane\n",
    "#norwegian\n",
    "#german\n",
    "#\n",
    "#tea\n",
    "#coffee\n",
    "#milk\n",
    "#beer\n",
    "#water\n",
    "#\n",
    "#dog\n",
    "#cat\n",
    "#horse\n",
    "#bird\n",
    "#zebra\n",
    "\n"
   ]
  }
 ],
 "metadata": {
  "kernelspec": {
   "display_name": "base",
   "language": "python",
   "name": "python3"
  },
  "language_info": {
   "codemirror_mode": {
    "name": "ipython",
    "version": 3
   },
   "file_extension": ".py",
   "mimetype": "text/x-python",
   "name": "python",
   "nbconvert_exporter": "python",
   "pygments_lexer": "ipython3",
   "version": "3.12.2"
  }
 },
 "nbformat": 4,
 "nbformat_minor": 2
}
